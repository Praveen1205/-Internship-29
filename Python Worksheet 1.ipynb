{
 "cells": [
  {
   "cell_type": "markdown",
   "id": "3cab96ff",
   "metadata": {},
   "source": [
    "### 11. Write a python program to find the factorial of a number."
   ]
  },
  {
   "cell_type": "code",
   "execution_count": 6,
   "id": "66928e61",
   "metadata": {},
   "outputs": [
    {
     "name": "stdout",
     "output_type": "stream",
     "text": [
      "Enter the value 12\n"
     ]
    },
    {
     "data": {
      "text/plain": [
       "479001600"
      ]
     },
     "execution_count": 6,
     "metadata": {},
     "output_type": "execute_result"
    }
   ],
   "source": [
    "def factorial(num):\n",
    "    if num<0:\n",
    "        return -1\n",
    "    elif num == 0:\n",
    "        return 1\n",
    "    else:\n",
    "        return num*factorial(num-1)\n",
    "    \n",
    "value = int(input(\"Enter the value \"))\n",
    "factorial(value)"
   ]
  },
  {
   "cell_type": "markdown",
   "id": "5b455de0",
   "metadata": {},
   "source": [
    "### 12. Write a python program to find whether a number is prime or composite."
   ]
  },
  {
   "cell_type": "code",
   "execution_count": 8,
   "id": "14d88cc2",
   "metadata": {},
   "outputs": [
    {
     "name": "stdout",
     "output_type": "stream",
     "text": [
      "Enter the value13\n",
      "13  is Prime Number\n"
     ]
    }
   ],
   "source": [
    "value = int(input(\"Enter the value\"))\n",
    "if value == 0 or value == 1:\n",
    "    print(value,\" is not a prime or composite\")\n",
    "else:\n",
    "    for i in range(2,value):\n",
    "        if(value % i == 0):\n",
    "            print(value,\" is Composite Number\")\n",
    "            break\n",
    "    else:\n",
    "        print(value,\" is Prime Number\")"
   ]
  },
  {
   "cell_type": "markdown",
   "id": "0fd3cec4",
   "metadata": {},
   "source": [
    "### 13. Write a python program to check whether a given string is palindrome or not. "
   ]
  },
  {
   "cell_type": "code",
   "execution_count": 9,
   "id": "f1208d5e",
   "metadata": {},
   "outputs": [
    {
     "name": "stdout",
     "output_type": "stream",
     "text": [
      "enter the String tata\n",
      "Not Palindrom String\n"
     ]
    }
   ],
   "source": [
    "string = input(\"enter the String \")\n",
    "rev_string = string[-1::-1]\n",
    "if (string==rev_string):\n",
    "    print('Palindrome String')\n",
    "else:\n",
    "    print('Not Palindrom String')"
   ]
  },
  {
   "cell_type": "markdown",
   "id": "eef2ce59",
   "metadata": {},
   "source": [
    "### 14. Write a Python program to get the third side of right-angled triangle from two given sides. "
   ]
  },
  {
   "cell_type": "code",
   "execution_count": 17,
   "id": "70fa3bab",
   "metadata": {},
   "outputs": [
    {
     "name": "stdout",
     "output_type": "stream",
     "text": [
      "Enter the lenth of P 11\n",
      "Enter the lenth of B 12\n"
     ]
    },
    {
     "data": {
      "text/plain": [
       "16.278820596099706"
      ]
     },
     "execution_count": 17,
     "metadata": {},
     "output_type": "execute_result"
    }
   ],
   "source": [
    "def Third_side(P,B):\n",
    " \n",
    "    H = (((P**2) + (B**2))**(1/2))\n",
    "    return H\n",
    " \n",
    "side_P = int(input('Enter the lenth of P '))\n",
    "side_B = int(input('Enter the lenth of B '))\n",
    " \n",
    "Third_side(side_P, side_B)"
   ]
  },
  {
   "cell_type": "markdown",
   "id": "3b1639ac",
   "metadata": {},
   "source": [
    "### 15. Write a python program to print the frequency of each of the characters present in a given string. "
   ]
  },
  {
   "cell_type": "code",
   "execution_count": 26,
   "id": "e3812d30",
   "metadata": {},
   "outputs": [
    {
     "name": "stdout",
     "output_type": "stream",
     "text": [
      "Enter the string: characters\n",
      "{'C': 2, 'H': 1, 'A': 2, 'R': 2, 'T': 1, 'E': 1, 'S': 1}\n"
     ]
    }
   ],
   "source": [
    "string = input (\"Enter the string: \").upper()\n",
    "char_Present = {}\n",
    "for i in string:\n",
    "    if i in char_Present:\n",
    "        char_Present[i] = char_Present[i] + 1\n",
    "    else:\n",
    "        char_Present[i] = 1\n",
    "print(char_Present)"
   ]
  },
  {
   "cell_type": "code",
   "execution_count": null,
   "id": "f053b572",
   "metadata": {},
   "outputs": [],
   "source": []
  }
 ],
 "metadata": {
  "kernelspec": {
   "display_name": "Python 3 (ipykernel)",
   "language": "python",
   "name": "python3"
  },
  "language_info": {
   "codemirror_mode": {
    "name": "ipython",
    "version": 3
   },
   "file_extension": ".py",
   "mimetype": "text/x-python",
   "name": "python",
   "nbconvert_exporter": "python",
   "pygments_lexer": "ipython3",
   "version": "3.9.7"
  }
 },
 "nbformat": 4,
 "nbformat_minor": 5
}
