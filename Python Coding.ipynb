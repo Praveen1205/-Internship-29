{
 "cells": [
  {
   "cell_type": "code",
   "execution_count": 18,
   "id": "ff5d744d",
   "metadata": {},
   "outputs": [
    {
     "name": "stdout",
     "output_type": "stream",
     "text": [
      "{'name': 'Kelly', 'age': 25, 'salary': 8000, 'location': 'New york'}\n"
     ]
    }
   ],
   "source": [
    "# 2 Rename key city to location in the following dictionary\n",
    "\n",
    "# sampleDict = { \"name\": \"Kelly\", \"age\":25, \"salary\": 8000, \"city\": \"New york\"}\n",
    "# Expected output:{ \"name\": \"Kelly\", \"age\":25, \"salary\": 8000, \"location\": \"New york\"}\n",
    "\n",
    "sampleDict = { \"name\": \"Kelly\", \"age\":25, \"salary\": 8000, \"city\": \"New york\"}\n",
    "sampleDict['location'] = sampleDict.pop('city')\n",
    "print(sampleDict)"
   ]
  },
  {
   "cell_type": "code",
   "execution_count": 2,
   "id": "0395a705",
   "metadata": {},
   "outputs": [
    {
     "name": "stdout",
     "output_type": "stream",
     "text": [
      "Enter the City_nameVaranasi\n",
      "Enter the Temperature24.45\n",
      "{'Varanasi': 24.45}\n"
     ]
    }
   ],
   "source": [
    "# 1 Write a program asks for City name and Temperature and builds a dictionary using that Later on you can input City name and it will tell you the Temperature of that City.\n",
    "City_name = input('Enter the City_name')\n",
    "Temp = float(input('Enter the Temperature'))\n",
    "Dic ={City_name:Temp}\n",
    "print(Dic)"
   ]
  },
  {
   "cell_type": "code",
   "execution_count": 1,
   "id": "0bbee93e",
   "metadata": {},
   "outputs": [
    {
     "name": "stdout",
     "output_type": "stream",
     "text": [
      "113.04\n",
      "37.68\n"
     ]
    }
   ],
   "source": [
    "# 3 Write a class circle to calculate the area of it.\n",
    "\n",
    "class Circle():\n",
    "    def __init__(self, r):\n",
    "        self.radius = r\n",
    "\n",
    "    def area(self):\n",
    "        return self.radius**2*3.14\n",
    "    \n",
    "    def perimeter(self):\n",
    "        return 2*self.radius*3.14\n",
    "\n",
    "NewCircle = Circle(6)\n",
    "print(NewCircle.area())\n",
    "print(NewCircle.perimeter())"
   ]
  },
  {
   "cell_type": "code",
   "execution_count": 10,
   "id": "648c5d93",
   "metadata": {},
   "outputs": [
    {
     "data": {
      "text/plain": [
       "[1, 4, 9, 16, 25, 36, 49, 64]"
      ]
     },
     "execution_count": 10,
     "metadata": {},
     "output_type": "execute_result"
    }
   ],
   "source": [
    "# 4 Given a Python list. Turn every item of a list into its square.\n",
    "def square(a):\n",
    "    squares = []\n",
    "    for i in a:\n",
    "        squares.append(i**2)\n",
    "    return squares\n",
    "L = [1, 2, 3, 4, 5, 6, 7, 8]\n",
    "square(L)"
   ]
  },
  {
   "cell_type": "code",
   "execution_count": 12,
   "id": "94d10699",
   "metadata": {},
   "outputs": [
    {
     "name": "stdout",
     "output_type": "stream",
     "text": [
      "Enter value in kilometers: 69\n",
      "69.00 kilometers is equal to 42.87 miles\n"
     ]
    }
   ],
   "source": [
    "# 7. Write a Python Program to Convert Kilometers to Miles by taking user input.\n",
    "kilometers = float(input(\"Enter value in kilometers: \"))\n",
    "conv_fac = 0.621371\n",
    "\n",
    "# calculate miles\n",
    "miles = kilometers * conv_fac\n",
    "print('%0.2f kilometers is equal to %0.2f miles' %(kilometers,miles))"
   ]
  },
  {
   "cell_type": "code",
   "execution_count": 9,
   "id": "e5042846",
   "metadata": {},
   "outputs": [],
   "source": []
  },
  {
   "cell_type": "code",
   "execution_count": 11,
   "id": "b67aaa4c",
   "metadata": {},
   "outputs": [
    {
     "name": "stdout",
     "output_type": "stream",
     "text": [
      "The Squares of odd numbers: [1, 9, 25, 49]\n",
      "Cube Root of Even number :[8, 64, 216, 512]\n"
     ]
    }
   ],
   "source": [
    "# 5 Write a program to print the squares of odd numbers and cube roots of even number from the list given.\n",
    "L =[1,2,3,4,5,6,7,8]\n",
    "even_Cube = [e**3 for e in L if e%2==0]\n",
    "odd_Squares = [e**2 for e in L if e%2!=0]\n",
    "print(f'The Squares of odd numbers: {odd_Squares}\\nCube Root of Even number :{even_Cube}')"
   ]
  },
  {
   "cell_type": "code",
   "execution_count": 3,
   "id": "6f9050c4",
   "metadata": {},
   "outputs": [
    {
     "name": "stdout",
     "output_type": "stream",
     "text": [
      "47.5 degree Celsius is equal to 117.5 degree Fahrenheit\n"
     ]
    }
   ],
   "source": [
    "# 6 Write a Python Program to Convert Celsius To Fahrenheit.\n",
    "celsius = 47.5 \n",
    "fahrenheit = (celsius*1.8)+32\n",
    "print('%0.1f degree Celsius is equal to %0.1f degree Fahrenheit'%(celsius,fahrenheit))"
   ]
  },
  {
   "cell_type": "code",
   "execution_count": null,
   "id": "4181f8c2",
   "metadata": {},
   "outputs": [],
   "source": []
  }
 ],
 "metadata": {
  "kernelspec": {
   "display_name": "Python 3 (ipykernel)",
   "language": "python",
   "name": "python3"
  },
  "language_info": {
   "codemirror_mode": {
    "name": "ipython",
    "version": 3
   },
   "file_extension": ".py",
   "mimetype": "text/x-python",
   "name": "python",
   "nbconvert_exporter": "python",
   "pygments_lexer": "ipython3",
   "version": "3.9.12"
  }
 },
 "nbformat": 4,
 "nbformat_minor": 5
}
